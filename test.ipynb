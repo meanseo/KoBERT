{
 "cells": [
  {
   "cell_type": "code",
   "execution_count": 1,
   "metadata": {
    "pycharm": {
     "name": "#%%\n"
    }
   },
   "outputs": [
    {
     "name": "stdout",
     "output_type": "stream",
     "text": [
      "1.8.0\n",
      "4.20.1\n",
      "2.7.7\n"
     ]
    }
   ],
   "source": [
    "import torch\n",
    "import transformers\n",
    "from transformers import AutoModelWithLMHead, PreTrainedTokenizerFast\n",
    "from fastai.text.all import *\n",
    "import re\n",
    "import fastai\n",
    "\n",
    "print(torch.__version__)\n",
    "print(transformers.__version__)\n",
    "print( fastai.__version__)\n"
   ]
  },
  {
   "cell_type": "code",
   "execution_count": 2,
   "metadata": {},
   "outputs": [
    {
     "name": "stderr",
     "output_type": "stream",
     "text": [
      "The tokenizer class you load from this checkpoint is not the same type as the class this function is called from. It may result in unexpected tokenization. \n",
      "The tokenizer class you load from this checkpoint is 'GPT2Tokenizer'. \n",
      "The class this function is called from is 'PreTrainedTokenizerFast'.\n",
      "c:\\ProgramData\\Anaconda3\\envs\\readvice\\lib\\site-packages\\transformers\\models\\auto\\modeling_auto.py:969: FutureWarning: The class `AutoModelWithLMHead` is deprecated and will be removed in a future version. Please use `AutoModelForCausalLM` for causal language models, `AutoModelForMaskedLM` for masked language models and `AutoModelForSeq2SeqLM` for encoder-decoder models.\n",
      "  warnings.warn(\n"
     ]
    },
    {
     "name": "stdout",
     "output_type": "stream",
     "text": [
      "옛날 옛날 어느 마을에 흥부와 놀부 형제가 왁자지껄 떠들어대며 \"우리 집엔 왜 이렇게 많은 사람들이 모여 사는 거야?\" 하고 묻는다.\n",
      "그런데 그 마을 사람들은 모두 다들 자기네 동네에 살고 있는 사람들이라고 한다.\n",
      "이렇게 해서 우리 마을은 '흥부가 살던 곳'이라는 뜻의 '고향'이 되었다.\n",
      "그리고 이 고향은 바로 지금의 서울 종로구 숭인동이다.\n",
      "숭인동은 원래 종로에서 가장 오래된 주택가였다.\n",
      "1970년대까지만 해도 이곳은 재개발로 인해 헐리고 빈집이 많아졌다.\n",
      "하지만 1980년대 들어 다시 활기를 되찾기 시작했다.\n",
      "당시만 하더라도 이곳에는 낡은 건물들이 많이 남아 있었다.\n",
      "그러나 1990년대 들어서부터는 예전의\n"
     ]
    }
   ],
   "source": [
    "tokenizer = PreTrainedTokenizerFast.from_pretrained(\"skt/kogpt2-base-v2\",\n",
    "  bos_token='</s>', eos_token='</s>', unk_token='<unk>',\n",
    "  pad_token='<pad>', mask_token='<mask>') \n",
    "model = AutoModelWithLMHead.from_pretrained(\"skt/kogpt2-base-v2\")\n",
    "text = \"\"\" 옛날 옛날 어느 마을에 흥부와 놀부 형제가 \"\"\"\n",
    "input_ids = tokenizer.encode(text)\n",
    "gen_ids = model.generate(torch.tensor([input_ids]),\n",
    "                           max_length=128,\n",
    "                           repetition_penalty=2.0,\n",
    "                           pad_token_id=tokenizer.pad_token_id,\n",
    "                           eos_token_id=tokenizer.eos_token_id,\n",
    "                           bos_token_id=tokenizer.bos_token_id,\n",
    "                           use_cache=True\n",
    "                        )\n",
    "generated = tokenizer.decode(gen_ids[0,:].tolist())\n",
    "print(generated)"
   ]
  },
  {
   "cell_type": "code",
   "execution_count": 3,
   "metadata": {
    "collapsed": false,
    "pycharm": {
     "name": "#%%\n"
    }
   },
   "outputs": [],
   "source": [
    "# import pandas as pd\n",
    "# import re\n",
    "# from icecream import ic\n",
    "#\n",
    "# df = pd.read_csv('./data/24_reivews_test.csv', index_col=0)\n",
    "# df.duplicated().sum()\n",
    "# df.drop_duplicates(inplace=True)\n",
    "# # df.to_csv('./data/reviews.txt', index=False)"
   ]
  },
  {
   "cell_type": "code",
   "execution_count": 4,
   "metadata": {
    "pycharm": {
     "name": "#%%\n"
    }
   },
   "outputs": [
    {
     "name": "stdout",
     "output_type": "stream",
     "text": [
      "1692433\n",
      "1692433\n",
      "1592406\n"
     ]
    }
   ],
   "source": [
    "with open('./data/reviews.txt', encoding='utf-8') as f:\n",
    "    lines = f.read()\n",
    "lines=\" \".join(lines.split())\n",
    "print(len(lines))\n",
    "lines = lines.replace('\\n|\\t', ' ')\n",
    "hangul = re.compile('[^ ㄱ-ㅣ가-힣+]')\n",
    "print(len(lines))\n",
    "result = hangul.sub('',lines)\n",
    "print(len(result))\n",
    "# UnicodeDecodeError: 'cp949' codec can't decode byte 0xec in position 20: illegal multibyte sequence\n",
    "# 해당 에러 ->  encoding='utf-8' 넣어 주기"
   ]
  },
  {
   "cell_type": "code",
   "execution_count": 5,
   "metadata": {
    "pycharm": {
     "name": "#%%\n"
    }
   },
   "outputs": [],
   "source": [
    "\n",
    "#model input output tokenizer\n",
    "class TransformersTokenizer(Transform):\n",
    "   def __init__(self, tokenizer): self.tokenizer = tokenizer\n",
    "   def encodes(self, x): \n",
    "       toks = self.tokenizer.tokenize(x)\n",
    "       return tensor(self.tokenizer.convert_tokens_to_ids(toks))\n",
    "   def decodes(self, x): return TitledStr(self.tokenizer.decode(x.cpu().numpy()))\n",
    "\n",
    "#split data\n",
    "train=result[:int(len(result)*0.9)]\n",
    "test=result[int(len(result)*0.9):]\n",
    "splits = [[0],[1]]\n",
    "\n",
    "#init dataloader\n",
    "tls = TfmdLists([train,test], TransformersTokenizer(tokenizer), splits=splits, dl_type=LMDataLoader)\n",
    "batch,seq_len = 8,256\n",
    "dls = tls.dataloaders(bs=4, seq_len=seq_len)"
   ]
  },
  {
   "cell_type": "code",
   "execution_count": 6,
   "metadata": {
    "pycharm": {
     "name": "#%%\n"
    }
   },
   "outputs": [
    {
     "data": {
      "text/html": [
       "\n",
       "<style>\n",
       "    /* Turns off some styling */\n",
       "    progress {\n",
       "        /* gets rid of default border in Firefox and Opera. */\n",
       "        border: none;\n",
       "        /* Needs to be in here for Safari polyfill so background images work as expected. */\n",
       "        background-size: auto;\n",
       "    }\n",
       "    .progress-bar-interrupted, .progress-bar-interrupted::-webkit-progress-bar {\n",
       "        background: #F44336;\n",
       "    }\n",
       "</style>\n"
      ],
      "text/plain": [
       "<IPython.core.display.HTML object>"
      ]
     },
     "metadata": {},
     "output_type": "display_data"
    },
    {
     "data": {
      "text/html": [],
      "text/plain": [
       "<IPython.core.display.HTML object>"
      ]
     },
     "metadata": {},
     "output_type": "display_data"
    },
    {
     "name": "stdout",
     "output_type": "stream",
     "text": [
      "SuggestedLRs(valley=9.120108734350652e-05)\n"
     ]
    },
    {
     "data": {
      "text/html": [
       "\n",
       "<style>\n",
       "    /* Turns off some styling */\n",
       "    progress {\n",
       "        /* gets rid of default border in Firefox and Opera. */\n",
       "        border: none;\n",
       "        /* Needs to be in here for Safari polyfill so background images work as expected. */\n",
       "        background-size: auto;\n",
       "    }\n",
       "    .progress-bar-interrupted, .progress-bar-interrupted::-webkit-progress-bar {\n",
       "        background: #F44336;\n",
       "    }\n",
       "</style>\n"
      ],
      "text/plain": [
       "<IPython.core.display.HTML object>"
      ]
     },
     "metadata": {},
     "output_type": "display_data"
    },
    {
     "data": {
      "text/html": [
       "<table border=\"1\" class=\"dataframe\">\n",
       "  <thead>\n",
       "    <tr style=\"text-align: left;\">\n",
       "      <th>epoch</th>\n",
       "      <th>train_loss</th>\n",
       "      <th>valid_loss</th>\n",
       "      <th>perplexity</th>\n",
       "      <th>time</th>\n",
       "    </tr>\n",
       "  </thead>\n",
       "  <tbody>\n",
       "    <tr>\n",
       "      <td>0</td>\n",
       "      <td>4.426782</td>\n",
       "      <td>4.260643</td>\n",
       "      <td>70.855530</td>\n",
       "      <td>02:29</td>\n",
       "    </tr>\n",
       "    <tr>\n",
       "      <td>1</td>\n",
       "      <td>4.283282</td>\n",
       "      <td>4.233506</td>\n",
       "      <td>68.958595</td>\n",
       "      <td>02:29</td>\n",
       "    </tr>\n",
       "    <tr>\n",
       "      <td>2</td>\n",
       "      <td>4.144680</td>\n",
       "      <td>4.233999</td>\n",
       "      <td>68.992599</td>\n",
       "      <td>02:30</td>\n",
       "    </tr>\n",
       "    <tr>\n",
       "      <td>3</td>\n",
       "      <td>3.990840</td>\n",
       "      <td>4.289129</td>\n",
       "      <td>72.902962</td>\n",
       "      <td>02:30</td>\n",
       "    </tr>\n",
       "    <tr>\n",
       "      <td>4</td>\n",
       "      <td>3.808237</td>\n",
       "      <td>4.373501</td>\n",
       "      <td>79.320869</td>\n",
       "      <td>02:30</td>\n",
       "    </tr>\n",
       "    <tr>\n",
       "      <td>5</td>\n",
       "      <td>3.607110</td>\n",
       "      <td>4.501252</td>\n",
       "      <td>90.129921</td>\n",
       "      <td>02:29</td>\n",
       "    </tr>\n",
       "    <tr>\n",
       "      <td>6</td>\n",
       "      <td>3.380082</td>\n",
       "      <td>4.632193</td>\n",
       "      <td>102.739082</td>\n",
       "      <td>02:30</td>\n",
       "    </tr>\n",
       "    <tr>\n",
       "      <td>7</td>\n",
       "      <td>3.139997</td>\n",
       "      <td>4.772295</td>\n",
       "      <td>118.190231</td>\n",
       "      <td>02:29</td>\n",
       "    </tr>\n",
       "    <tr>\n",
       "      <td>8</td>\n",
       "      <td>2.874776</td>\n",
       "      <td>4.935365</td>\n",
       "      <td>139.123947</td>\n",
       "      <td>02:29</td>\n",
       "    </tr>\n",
       "    <tr>\n",
       "      <td>9</td>\n",
       "      <td>2.611105</td>\n",
       "      <td>5.036846</td>\n",
       "      <td>153.983612</td>\n",
       "      <td>02:30</td>\n",
       "    </tr>\n",
       "    <tr>\n",
       "      <td>10</td>\n",
       "      <td>2.330374</td>\n",
       "      <td>5.212804</td>\n",
       "      <td>183.608231</td>\n",
       "      <td>02:30</td>\n",
       "    </tr>\n",
       "    <tr>\n",
       "      <td>11</td>\n",
       "      <td>2.054116</td>\n",
       "      <td>5.366576</td>\n",
       "      <td>214.128372</td>\n",
       "      <td>02:30</td>\n",
       "    </tr>\n",
       "    <tr>\n",
       "      <td>12</td>\n",
       "      <td>1.781570</td>\n",
       "      <td>5.531503</td>\n",
       "      <td>252.523224</td>\n",
       "      <td>02:30</td>\n",
       "    </tr>\n",
       "    <tr>\n",
       "      <td>13</td>\n",
       "      <td>1.534100</td>\n",
       "      <td>5.668426</td>\n",
       "      <td>289.578247</td>\n",
       "      <td>02:30</td>\n",
       "    </tr>\n",
       "    <tr>\n",
       "      <td>14</td>\n",
       "      <td>1.288751</td>\n",
       "      <td>5.803503</td>\n",
       "      <td>331.458496</td>\n",
       "      <td>02:30</td>\n",
       "    </tr>\n",
       "    <tr>\n",
       "      <td>15</td>\n",
       "      <td>1.088294</td>\n",
       "      <td>5.974448</td>\n",
       "      <td>393.250854</td>\n",
       "      <td>02:30</td>\n",
       "    </tr>\n",
       "    <tr>\n",
       "      <td>16</td>\n",
       "      <td>0.901570</td>\n",
       "      <td>6.110813</td>\n",
       "      <td>450.705048</td>\n",
       "      <td>02:30</td>\n",
       "    </tr>\n",
       "    <tr>\n",
       "      <td>17</td>\n",
       "      <td>0.751567</td>\n",
       "      <td>6.241777</td>\n",
       "      <td>513.770630</td>\n",
       "      <td>02:30</td>\n",
       "    </tr>\n",
       "    <tr>\n",
       "      <td>18</td>\n",
       "      <td>0.635030</td>\n",
       "      <td>6.349927</td>\n",
       "      <td>572.450867</td>\n",
       "      <td>02:30</td>\n",
       "    </tr>\n",
       "    <tr>\n",
       "      <td>19</td>\n",
       "      <td>0.535516</td>\n",
       "      <td>6.517919</td>\n",
       "      <td>677.167419</td>\n",
       "      <td>02:30</td>\n",
       "    </tr>\n",
       "    <tr>\n",
       "      <td>20</td>\n",
       "      <td>0.459154</td>\n",
       "      <td>6.634903</td>\n",
       "      <td>761.205200</td>\n",
       "      <td>02:30</td>\n",
       "    </tr>\n",
       "    <tr>\n",
       "      <td>21</td>\n",
       "      <td>0.390887</td>\n",
       "      <td>6.710759</td>\n",
       "      <td>821.193420</td>\n",
       "      <td>02:30</td>\n",
       "    </tr>\n",
       "    <tr>\n",
       "      <td>22</td>\n",
       "      <td>0.337362</td>\n",
       "      <td>6.848182</td>\n",
       "      <td>942.166260</td>\n",
       "      <td>02:30</td>\n",
       "    </tr>\n",
       "    <tr>\n",
       "      <td>23</td>\n",
       "      <td>0.289877</td>\n",
       "      <td>6.923598</td>\n",
       "      <td>1015.968689</td>\n",
       "      <td>02:30</td>\n",
       "    </tr>\n",
       "    <tr>\n",
       "      <td>24</td>\n",
       "      <td>0.253593</td>\n",
       "      <td>6.981228</td>\n",
       "      <td>1076.239502</td>\n",
       "      <td>02:30</td>\n",
       "    </tr>\n",
       "    <tr>\n",
       "      <td>25</td>\n",
       "      <td>0.225452</td>\n",
       "      <td>7.077720</td>\n",
       "      <td>1185.263184</td>\n",
       "      <td>02:30</td>\n",
       "    </tr>\n",
       "    <tr>\n",
       "      <td>26</td>\n",
       "      <td>0.200140</td>\n",
       "      <td>7.097435</td>\n",
       "      <td>1208.862915</td>\n",
       "      <td>02:30</td>\n",
       "    </tr>\n",
       "    <tr>\n",
       "      <td>27</td>\n",
       "      <td>0.179713</td>\n",
       "      <td>7.131393</td>\n",
       "      <td>1250.617798</td>\n",
       "      <td>02:30</td>\n",
       "    </tr>\n",
       "    <tr>\n",
       "      <td>28</td>\n",
       "      <td>0.158203</td>\n",
       "      <td>7.173142</td>\n",
       "      <td>1303.935669</td>\n",
       "      <td>02:30</td>\n",
       "    </tr>\n",
       "    <tr>\n",
       "      <td>29</td>\n",
       "      <td>0.140975</td>\n",
       "      <td>7.210578</td>\n",
       "      <td>1353.675049</td>\n",
       "      <td>02:30</td>\n",
       "    </tr>\n",
       "    <tr>\n",
       "      <td>30</td>\n",
       "      <td>0.124441</td>\n",
       "      <td>7.249117</td>\n",
       "      <td>1406.862549</td>\n",
       "      <td>02:30</td>\n",
       "    </tr>\n",
       "    <tr>\n",
       "      <td>31</td>\n",
       "      <td>0.109642</td>\n",
       "      <td>7.283428</td>\n",
       "      <td>1455.970825</td>\n",
       "      <td>02:30</td>\n",
       "    </tr>\n",
       "    <tr>\n",
       "      <td>32</td>\n",
       "      <td>0.092760</td>\n",
       "      <td>7.356392</td>\n",
       "      <td>1566.176147</td>\n",
       "      <td>02:31</td>\n",
       "    </tr>\n",
       "    <tr>\n",
       "      <td>33</td>\n",
       "      <td>0.085476</td>\n",
       "      <td>7.382911</td>\n",
       "      <td>1608.264893</td>\n",
       "      <td>02:31</td>\n",
       "    </tr>\n",
       "    <tr>\n",
       "      <td>34</td>\n",
       "      <td>0.075432</td>\n",
       "      <td>7.381429</td>\n",
       "      <td>1605.883179</td>\n",
       "      <td>02:30</td>\n",
       "    </tr>\n",
       "    <tr>\n",
       "      <td>35</td>\n",
       "      <td>0.065847</td>\n",
       "      <td>7.408787</td>\n",
       "      <td>1650.423584</td>\n",
       "      <td>02:30</td>\n",
       "    </tr>\n",
       "    <tr>\n",
       "      <td>36</td>\n",
       "      <td>0.055594</td>\n",
       "      <td>7.437595</td>\n",
       "      <td>1698.659790</td>\n",
       "      <td>02:30</td>\n",
       "    </tr>\n",
       "    <tr>\n",
       "      <td>37</td>\n",
       "      <td>0.050119</td>\n",
       "      <td>7.451047</td>\n",
       "      <td>1721.665527</td>\n",
       "      <td>02:30</td>\n",
       "    </tr>\n",
       "    <tr>\n",
       "      <td>38</td>\n",
       "      <td>0.045698</td>\n",
       "      <td>7.446458</td>\n",
       "      <td>1713.781982</td>\n",
       "      <td>02:32</td>\n",
       "    </tr>\n",
       "    <tr>\n",
       "      <td>39</td>\n",
       "      <td>0.040276</td>\n",
       "      <td>7.474738</td>\n",
       "      <td>1762.939087</td>\n",
       "      <td>02:31</td>\n",
       "    </tr>\n",
       "    <tr>\n",
       "      <td>40</td>\n",
       "      <td>0.036299</td>\n",
       "      <td>7.489189</td>\n",
       "      <td>1788.600342</td>\n",
       "      <td>02:31</td>\n",
       "    </tr>\n",
       "    <tr>\n",
       "      <td>41</td>\n",
       "      <td>0.032193</td>\n",
       "      <td>7.493656</td>\n",
       "      <td>1796.607910</td>\n",
       "      <td>02:30</td>\n",
       "    </tr>\n",
       "    <tr>\n",
       "      <td>42</td>\n",
       "      <td>0.028636</td>\n",
       "      <td>7.500057</td>\n",
       "      <td>1808.145874</td>\n",
       "      <td>02:30</td>\n",
       "    </tr>\n",
       "    <tr>\n",
       "      <td>43</td>\n",
       "      <td>0.027491</td>\n",
       "      <td>7.514936</td>\n",
       "      <td>1835.250854</td>\n",
       "      <td>02:31</td>\n",
       "    </tr>\n",
       "    <tr>\n",
       "      <td>44</td>\n",
       "      <td>0.024006</td>\n",
       "      <td>7.511163</td>\n",
       "      <td>1828.339111</td>\n",
       "      <td>02:31</td>\n",
       "    </tr>\n",
       "    <tr>\n",
       "      <td>45</td>\n",
       "      <td>0.023824</td>\n",
       "      <td>7.521327</td>\n",
       "      <td>1847.016724</td>\n",
       "      <td>02:31</td>\n",
       "    </tr>\n",
       "    <tr>\n",
       "      <td>46</td>\n",
       "      <td>0.022548</td>\n",
       "      <td>7.527013</td>\n",
       "      <td>1857.549316</td>\n",
       "      <td>02:31</td>\n",
       "    </tr>\n",
       "    <tr>\n",
       "      <td>47</td>\n",
       "      <td>0.022201</td>\n",
       "      <td>7.530610</td>\n",
       "      <td>1864.241577</td>\n",
       "      <td>02:31</td>\n",
       "    </tr>\n",
       "    <tr>\n",
       "      <td>48</td>\n",
       "      <td>0.021262</td>\n",
       "      <td>7.531663</td>\n",
       "      <td>1866.206299</td>\n",
       "      <td>02:31</td>\n",
       "    </tr>\n",
       "    <tr>\n",
       "      <td>49</td>\n",
       "      <td>0.020871</td>\n",
       "      <td>7.531531</td>\n",
       "      <td>1865.959839</td>\n",
       "      <td>02:31</td>\n",
       "    </tr>\n",
       "  </tbody>\n",
       "</table>"
      ],
      "text/plain": [
       "<IPython.core.display.HTML object>"
      ]
     },
     "metadata": {},
     "output_type": "display_data"
    },
    {
     "data": {
      "image/png": "[encoded data removed]",
      "text/plain": [
       "<Figure size 432x288 with 1 Axes>"
      ]
     },
     "metadata": {
      "needs_background": "light"
     },
     "output_type": "display_data"
    }
   ],
   "source": [
    "#gpt2 ouput is tuple, we need just one val\n",
    "class DropOutput(Callback):\n",
    "    def after_pred(self): self.learn.pred = self.pred[0]\n",
    "\n",
    "learn = Learner(dls, model, loss_func=CrossEntropyLossFlat(), cbs=[DropOutput], metrics=Perplexity()).to_fp16()\n",
    "lr=learn.lr_find()\n",
    "print(lr)\n",
    "learn.fit_one_cycle(50, lr)\n",
    "# learn.fine_tune(30)"
   ]
  },
  {
   "cell_type": "code",
   "execution_count": 10,
   "metadata": {
    "collapsed": false,
    "pycharm": {
     "name": "#%%\n"
    }
   },
   "outputs": [
    {
     "data": {
      "text/plain": [
       "'경제경제 성장률 금리 인구 공급이 이전보다 많아진다는 뜻이다 년 외환위기 이후 최고치라고 전문가들은 입을 모은다 경제학 서적에서나 접하던 인플레이션의 망령이 우리의 일상을 위협하기 시작하는 것이리라 본다가글쓴이는 여기에 주목해 끝을 모르고 올라가는 물가에 대응할 수 있는 혜안과 예측능력을 독자들에게 선사한다한익히 모르는 사이에 배운 내용이지만 저자의 말처럼 그물은 이미 알고 있고 경험도 했지만 누구도 예측할 순 없지만 그때에도 당황하지 않고 현명하게 대처하는 방법을 배우며 어렵고 복잡한 세계사를 공부한다면 어렵게만 느껴졌던세계사에 대한 지식이 더욱 깊어질 것으로 보인다고본다이 책은 특히 코'"
      ]
     },
     "execution_count": 10,
     "metadata": {},
     "output_type": "execute_result"
    }
   ],
   "source": [
    "prompt='경제'\n",
    "prompt_ids = tokenizer.encode(prompt)\n",
    "inp = tensor(prompt_ids)[None].cuda()\n",
    "preds = learn.model.generate(inp,\n",
    "                           max_length=128,\n",
    "                           pad_token_id=tokenizer.pad_token_id,\n",
    "                           eos_token_id=tokenizer.eos_token_id,\n",
    "                           bos_token_id=tokenizer.bos_token_id,\n",
    "                           repetition_penalty=2.0,\n",
    "                           use_cache=True\n",
    "                          )\n",
    "tokenizer.decode(preds[0].cpu().numpy())"
   ]
  },
  {
   "cell_type": "code",
   "execution_count": null,
   "metadata": {},
   "outputs": [],
   "source": [
    "learn.model.save_pretrained(\"./models/kogpt2_bookreport_backup50\")"
   ]
  }
 ],
 "metadata": {
  "kernelspec": {
   "display_name": "Python 3.8.0 ('readvice')",
   "language": "python",
   "name": "python3"
  },
  "language_info": {
   "codemirror_mode": {
    "name": "ipython",
    "version": 3
   },
   "file_extension": ".py",
   "mimetype": "text/x-python",
   "name": "python",
   "nbconvert_exporter": "python",
   "pygments_lexer": "ipython3",
   "version": "3.8.0"
  },
  "orig_nbformat": 4,
  "vscode": {
   "interpreter": {
    "hash": "f82e657652c1f559b98fb141e76bcce2ec0f3958c3a6000b4409466ee456e5f2"
   }
  }
 },
 "nbformat": 4,
 "nbformat_minor": 2
}
