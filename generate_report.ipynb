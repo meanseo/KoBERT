{
 "cells": [
  {
   "cell_type": "code",
   "execution_count": 23,
   "metadata": {
    "pycharm": {
     "name": "#%%\n"
    }
   },
   "outputs": [
    {
     "name": "stdout",
     "output_type": "stream",
     "text": [
      "1.8.0\n",
      "4.20.1\n",
      "2.7.7\n"
     ]
    }
   ],
   "source": [
    "import torch\n",
    "import transformers\n",
    "from transformers import AutoModelWithLMHead, PreTrainedTokenizerFast\n",
    "from fastai.text.all import *\n",
    "import re\n",
    "import fastai\n",
    "\n",
    "print(torch.__version__)\n",
    "print(transformers.__version__)\n",
    "print( fastai.__version__)"
   ]
  },
  {
   "cell_type": "code",
   "execution_count": 24,
   "metadata": {
    "pycharm": {
     "name": "#%%\n"
    }
   },
   "outputs": [
    {
     "name": "stderr",
     "output_type": "stream",
     "text": [
      "The tokenizer class you load from this checkpoint is not the same type as the class this function is called from. It may result in unexpected tokenization. \n",
      "The tokenizer class you load from this checkpoint is 'GPT2Tokenizer'. \n",
      "The class this function is called from is 'PreTrainedTokenizerFast'.\n",
      "c:\\ProgramData\\Anaconda3\\envs\\readvice\\lib\\site-packages\\transformers\\models\\auto\\modeling_auto.py:969: FutureWarning: The class `AutoModelWithLMHead` is deprecated and will be removed in a future version. Please use `AutoModelForCausalLM` for causal language models, `AutoModelForMaskedLM` for masked language models and `AutoModelForSeq2SeqLM` for encoder-decoder models.\n",
      "  warnings.warn(\n"
     ]
    },
    {
     "name": "stdout",
     "output_type": "stream",
     "text": [
      "옛날 옛날 어느 마을에 흥부와 놀부 형제가 왁자지껄 떠들어대며 \"우리 집엔 왜 이렇게 많은 사람들이 모여 사는 거야?\" 하고 묻는다.\n",
      "그런데 그 마을 사람들은 모두 다들 자기네 동네에 살고 있는 사람들이라고 한다.\n",
      "이렇게 해서 우리 마을은 '흥부가 살던 곳'이라는 뜻의 '고향'이 되었다.\n",
      "그리고 이 고향은 바로 지금의 서울 종로구 숭인동이다.\n",
      "숭인동은 원래 종로에서 가장 오래된 주택가였다.\n",
      "1970년대까지만 해도 이곳은 재개발로 인해 헐리고 빈집이 많아졌다.\n",
      "하지만 1980년대 들어 다시 활기를 되찾기 시작했다.\n",
      "당시만 하더라도 이곳에는 낡은 건물들이 많이 남아 있었다.\n",
      "그러나 1990년대 들어서부터는 예전의\n"
     ]
    }
   ],
   "source": [
    "tokenizer = PreTrainedTokenizerFast.from_pretrained(\"skt/kogpt2-base-v2\",\n",
    "  bos_token='</s>', eos_token='</s>', unk_token='<unk>',\n",
    "  pad_token='<pad>', mask_token='<mask>') \n",
    "model = AutoModelWithLMHead.from_pretrained(\"skt/kogpt2-base-v2\")\n",
    "text = \"\"\" 옛날 옛날 어느 마을에 흥부와 놀부 형제가 \"\"\"\n",
    "input_ids = tokenizer.encode(text)\n",
    "gen_ids = model.generate(torch.tensor([input_ids]),\n",
    "                           max_length=128,\n",
    "                           repetition_penalty=2.0,\n",
    "                           pad_token_id=tokenizer.pad_token_id,\n",
    "                           eos_token_id=tokenizer.eos_token_id,\n",
    "                           bos_token_id=tokenizer.bos_token_id,\n",
    "                           use_cache=True\n",
    "                        )\n",
    "generated = tokenizer.decode(gen_ids[0,:].tolist())\n",
    "print(generated)"
   ]
  },
  {
   "cell_type": "code",
   "execution_count": 4,
   "metadata": {
    "collapsed": false,
    "pycharm": {
     "name": "#%%\n"
    }
   },
   "outputs": [],
   "source": [
    "# import pandas as pd\n",
    "# import re\n",
    "# from icecream import ic\n",
    "# df = pd.read_csv('./data/book_report_data.csv', index_col=0)\n",
    "# df.drop_duplicates(keep='first', inplace=True, ignore_index=False)\n",
    "# df = df.to_csv('./data/book_report_data.txt', index=False)"
   ]
  },
  {
   "cell_type": "code",
   "execution_count": 1,
   "metadata": {
    "collapsed": false,
    "pycharm": {
     "name": "#%%\n"
    }
   },
   "outputs": [
    {
     "name": "stdout",
     "output_type": "stream",
     "text": [
      "2059672\n",
      "1593742\n",
      "2095744\n",
      "2003417\n"
     ]
    }
   ],
   "source": [
    "from hanspell import spell_checker\n",
    "import re\n",
    "from pykospacing import Spacing\n",
    "with open('./data/book_report_data.txt', 'r', encoding='utf-8') as f:\n",
    "    data = f.read()\n",
    "data=\" \".join(data.split())\n",
    "# print(len(data))\n",
    "data = data.replace('\\n|\\t', ' ')\n",
    "print(len(data))\n",
    "new_sent = data.replace(\" \", '') # 띄어쓰기가 없는 문장 임의로 만들기\n",
    "print(len(new_sent))\n",
    "spacing = Spacing()\n",
    "kospacing_sent = spacing(new_sent) \n",
    "print(len(kospacing_sent))\n",
    "# spelled_sent = spell_checker.check(data)\n",
    "# print(len(spelled_sent))\n",
    "# data = spelled_sent.checked\n",
    "# print(len(data))\n",
    "data = re.sub('[-=+,#/\\:^$@*\\\"※~&%ㆍ』\\\\‘|\\(\\)\\[\\]\\<\\>`\\'…》]','', data)\n",
    "# print(len(data))\n",
    "data = re.sub('[a-zA-Z]' , '', data)\n",
    "print(len(data))\n",
    "\n",
    "\n",
    "# UnicodeDecodeError: 'cp949' codec can't decode byte 0xec in position 20: illegal multibyte sequence\n",
    "# 해당 에러 ->  encoding='utf-8' 넣어 주기"
   ]
  },
  {
   "cell_type": "code",
   "execution_count": 15,
   "metadata": {
    "pycharm": {
     "name": "#%%\n"
    }
   },
   "outputs": [],
   "source": [
    "\n",
    "#model input output tokenizer\n",
    "class TransformersTokenizer(Transform):\n",
    "   def __init__(self, tokenizer): self.tokenizer = tokenizer\n",
    "   def encodes(self, x): \n",
    "       toks = self.tokenizer.tokenize(x)\n",
    "       return tensor(self.tokenizer.convert_tokens_to_ids(toks))\n",
    "   def decodes(self, x): return TitledStr(self.tokenizer.decode(x.cpu().numpy()))\n",
    "\n",
    "#split data\n",
    "train=data[:int(len(data)*0.9)]\n",
    "test=data[int(len(data)*0.9):]\n",
    "splits = [[0],[1]]\n",
    "\n",
    "#init dataloader\n",
    "tls = TfmdLists([train,test], TransformersTokenizer(tokenizer), splits=splits, dl_type=LMDataLoader)\n",
    "batch,seq_len = 8,256\n",
    "dls = tls.dataloaders(bs=4, seq_len=seq_len)"
   ]
  },
  {
   "cell_type": "code",
   "execution_count": 17,
   "metadata": {
    "pycharm": {
     "name": "#%%\n"
    }
   },
   "outputs": [
    {
     "data": {
      "text/html": [
       "\n",
       "<style>\n",
       "    /* Turns off some styling */\n",
       "    progress {\n",
       "        /* gets rid of default border in Firefox and Opera. */\n",
       "        border: none;\n",
       "        /* Needs to be in here for Safari polyfill so background images work as expected. */\n",
       "        background-size: auto;\n",
       "    }\n",
       "    .progress-bar-interrupted, .progress-bar-interrupted::-webkit-progress-bar {\n",
       "        background: #F44336;\n",
       "    }\n",
       "</style>\n"
      ],
      "text/plain": [
       "<IPython.core.display.HTML object>"
      ]
     },
     "metadata": {},
     "output_type": "display_data"
    },
    {
     "data": {
      "text/html": [
       "\n",
       "    <div>\n",
       "      <progress value='0' class='' max='1' style='width:300px; height:20px; vertical-align: middle;'></progress>\n",
       "      0.00% [0/1 00:00<00:00]\n",
       "    </div>\n",
       "    \n",
       "\n",
       "\n",
       "    <div>\n",
       "      <progress value='18' class='' max='739' style='width:300px; height:20px; vertical-align: middle;'></progress>\n",
       "      2.44% [18/739 00:04<03:08 2.3556]\n",
       "    </div>\n",
       "    "
      ],
      "text/plain": [
       "<IPython.core.display.HTML object>"
      ]
     },
     "metadata": {},
     "output_type": "display_data"
    },
    {
     "ename": "KeyboardInterrupt",
     "evalue": "",
     "output_type": "error",
     "traceback": [
      "\u001b[1;31m---------------------------------------------------------------------------\u001b[0m",
      "\u001b[1;31mKeyboardInterrupt\u001b[0m                         Traceback (most recent call last)",
      "\u001b[1;32mc:\\readvice\\koGPT2-bookReport\\generate_report.ipynb 셀 6\u001b[0m in \u001b[0;36m<cell line: 6>\u001b[1;34m()\u001b[0m\n\u001b[0;32m      <a href='vscode-notebook-cell:/c%3A/readvice/koGPT2-bookReport/generate_report.ipynb#ch0000005?line=2'>3</a>\u001b[0m     \u001b[39mdef\u001b[39;00m \u001b[39mafter_pred\u001b[39m(\u001b[39mself\u001b[39m): \u001b[39mself\u001b[39m\u001b[39m.\u001b[39mlearn\u001b[39m.\u001b[39mpred \u001b[39m=\u001b[39m \u001b[39mself\u001b[39m\u001b[39m.\u001b[39mpred[\u001b[39m0\u001b[39m]\n\u001b[0;32m      <a href='vscode-notebook-cell:/c%3A/readvice/koGPT2-bookReport/generate_report.ipynb#ch0000005?line=4'>5</a>\u001b[0m learn \u001b[39m=\u001b[39m Learner(dls, model, loss_func\u001b[39m=\u001b[39mCrossEntropyLossFlat(), cbs\u001b[39m=\u001b[39m[DropOutput], metrics\u001b[39m=\u001b[39mPerplexity())\u001b[39m.\u001b[39mto_fp16()\n\u001b[1;32m----> <a href='vscode-notebook-cell:/c%3A/readvice/koGPT2-bookReport/generate_report.ipynb#ch0000005?line=5'>6</a>\u001b[0m lr\u001b[39m=\u001b[39mlearn\u001b[39m.\u001b[39;49mlr_find()\n\u001b[0;32m      <a href='vscode-notebook-cell:/c%3A/readvice/koGPT2-bookReport/generate_report.ipynb#ch0000005?line=6'>7</a>\u001b[0m \u001b[39mprint\u001b[39m(lr)\n\u001b[0;32m      <a href='vscode-notebook-cell:/c%3A/readvice/koGPT2-bookReport/generate_report.ipynb#ch0000005?line=7'>8</a>\u001b[0m learn\u001b[39m.\u001b[39mfit_one_cycle(\u001b[39m50\u001b[39m, lr)\n",
      "File \u001b[1;32mc:\\ProgramData\\Anaconda3\\envs\\readvice\\lib\\site-packages\\fastai\\callback\\schedule.py:296\u001b[0m, in \u001b[0;36mlr_find\u001b[1;34m(self, start_lr, end_lr, num_it, stop_div, show_plot, suggest_funcs)\u001b[0m\n\u001b[0;32m    294\u001b[0m n_epoch \u001b[39m=\u001b[39m num_it\u001b[39m/\u001b[39m\u001b[39m/\u001b[39m\u001b[39mlen\u001b[39m(\u001b[39mself\u001b[39m\u001b[39m.\u001b[39mdls\u001b[39m.\u001b[39mtrain) \u001b[39m+\u001b[39m \u001b[39m1\u001b[39m\n\u001b[0;32m    295\u001b[0m cb\u001b[39m=\u001b[39mLRFinder(start_lr\u001b[39m=\u001b[39mstart_lr, end_lr\u001b[39m=\u001b[39mend_lr, num_it\u001b[39m=\u001b[39mnum_it, stop_div\u001b[39m=\u001b[39mstop_div)\n\u001b[1;32m--> 296\u001b[0m \u001b[39mwith\u001b[39;00m \u001b[39mself\u001b[39m\u001b[39m.\u001b[39mno_logging(): \u001b[39mself\u001b[39;49m\u001b[39m.\u001b[39;49mfit(n_epoch, cbs\u001b[39m=\u001b[39;49mcb)\n\u001b[0;32m    297\u001b[0m \u001b[39mif\u001b[39;00m suggest_funcs \u001b[39mis\u001b[39;00m \u001b[39mnot\u001b[39;00m \u001b[39mNone\u001b[39;00m:\n\u001b[0;32m    298\u001b[0m     lrs, losses \u001b[39m=\u001b[39m tensor(\u001b[39mself\u001b[39m\u001b[39m.\u001b[39mrecorder\u001b[39m.\u001b[39mlrs[num_it\u001b[39m/\u001b[39m\u001b[39m/\u001b[39m\u001b[39m10\u001b[39m:\u001b[39m-\u001b[39m\u001b[39m5\u001b[39m]), tensor(\u001b[39mself\u001b[39m\u001b[39m.\u001b[39mrecorder\u001b[39m.\u001b[39mlosses[num_it\u001b[39m/\u001b[39m\u001b[39m/\u001b[39m\u001b[39m10\u001b[39m:\u001b[39m-\u001b[39m\u001b[39m5\u001b[39m])\n",
      "File \u001b[1;32mc:\\ProgramData\\Anaconda3\\envs\\readvice\\lib\\site-packages\\fastai\\learner.py:242\u001b[0m, in \u001b[0;36mLearner.fit\u001b[1;34m(self, n_epoch, lr, wd, cbs, reset_opt, start_epoch)\u001b[0m\n\u001b[0;32m    240\u001b[0m \u001b[39mself\u001b[39m\u001b[39m.\u001b[39mopt\u001b[39m.\u001b[39mset_hypers(lr\u001b[39m=\u001b[39m\u001b[39mself\u001b[39m\u001b[39m.\u001b[39mlr \u001b[39mif\u001b[39;00m lr \u001b[39mis\u001b[39;00m \u001b[39mNone\u001b[39;00m \u001b[39melse\u001b[39;00m lr)\n\u001b[0;32m    241\u001b[0m \u001b[39mself\u001b[39m\u001b[39m.\u001b[39mn_epoch \u001b[39m=\u001b[39m n_epoch\n\u001b[1;32m--> 242\u001b[0m \u001b[39mself\u001b[39;49m\u001b[39m.\u001b[39;49m_with_events(\u001b[39mself\u001b[39;49m\u001b[39m.\u001b[39;49m_do_fit, \u001b[39m'\u001b[39;49m\u001b[39mfit\u001b[39;49m\u001b[39m'\u001b[39;49m, CancelFitException, \u001b[39mself\u001b[39;49m\u001b[39m.\u001b[39;49m_end_cleanup)\n",
      "File \u001b[1;32mc:\\ProgramData\\Anaconda3\\envs\\readvice\\lib\\site-packages\\fastai\\learner.py:179\u001b[0m, in \u001b[0;36mLearner._with_events\u001b[1;34m(self, f, event_type, ex, final)\u001b[0m\n\u001b[0;32m    178\u001b[0m \u001b[39mdef\u001b[39;00m \u001b[39m_with_events\u001b[39m(\u001b[39mself\u001b[39m, f, event_type, ex, final\u001b[39m=\u001b[39mnoop):\n\u001b[1;32m--> 179\u001b[0m     \u001b[39mtry\u001b[39;00m: \u001b[39mself\u001b[39m(\u001b[39mf\u001b[39m\u001b[39m'\u001b[39m\u001b[39mbefore_\u001b[39m\u001b[39m{\u001b[39;00mevent_type\u001b[39m}\u001b[39;00m\u001b[39m'\u001b[39m);  f()\n\u001b[0;32m    180\u001b[0m     \u001b[39mexcept\u001b[39;00m ex: \u001b[39mself\u001b[39m(\u001b[39mf\u001b[39m\u001b[39m'\u001b[39m\u001b[39mafter_cancel_\u001b[39m\u001b[39m{\u001b[39;00mevent_type\u001b[39m}\u001b[39;00m\u001b[39m'\u001b[39m)\n\u001b[0;32m    181\u001b[0m     \u001b[39mself\u001b[39m(\u001b[39mf\u001b[39m\u001b[39m'\u001b[39m\u001b[39mafter_\u001b[39m\u001b[39m{\u001b[39;00mevent_type\u001b[39m}\u001b[39;00m\u001b[39m'\u001b[39m);  final()\n",
      "File \u001b[1;32mc:\\ProgramData\\Anaconda3\\envs\\readvice\\lib\\site-packages\\fastai\\learner.py:231\u001b[0m, in \u001b[0;36mLearner._do_fit\u001b[1;34m(self)\u001b[0m\n\u001b[0;32m    229\u001b[0m \u001b[39mfor\u001b[39;00m epoch \u001b[39min\u001b[39;00m \u001b[39mrange\u001b[39m(\u001b[39mself\u001b[39m\u001b[39m.\u001b[39mn_epoch):\n\u001b[0;32m    230\u001b[0m     \u001b[39mself\u001b[39m\u001b[39m.\u001b[39mepoch\u001b[39m=\u001b[39mepoch\n\u001b[1;32m--> 231\u001b[0m     \u001b[39mself\u001b[39;49m\u001b[39m.\u001b[39;49m_with_events(\u001b[39mself\u001b[39;49m\u001b[39m.\u001b[39;49m_do_epoch, \u001b[39m'\u001b[39;49m\u001b[39mepoch\u001b[39;49m\u001b[39m'\u001b[39;49m, CancelEpochException)\n",
      "File \u001b[1;32mc:\\ProgramData\\Anaconda3\\envs\\readvice\\lib\\site-packages\\fastai\\learner.py:179\u001b[0m, in \u001b[0;36mLearner._with_events\u001b[1;34m(self, f, event_type, ex, final)\u001b[0m\n\u001b[0;32m    178\u001b[0m \u001b[39mdef\u001b[39;00m \u001b[39m_with_events\u001b[39m(\u001b[39mself\u001b[39m, f, event_type, ex, final\u001b[39m=\u001b[39mnoop):\n\u001b[1;32m--> 179\u001b[0m     \u001b[39mtry\u001b[39;00m: \u001b[39mself\u001b[39m(\u001b[39mf\u001b[39m\u001b[39m'\u001b[39m\u001b[39mbefore_\u001b[39m\u001b[39m{\u001b[39;00mevent_type\u001b[39m}\u001b[39;00m\u001b[39m'\u001b[39m);  f()\n\u001b[0;32m    180\u001b[0m     \u001b[39mexcept\u001b[39;00m ex: \u001b[39mself\u001b[39m(\u001b[39mf\u001b[39m\u001b[39m'\u001b[39m\u001b[39mafter_cancel_\u001b[39m\u001b[39m{\u001b[39;00mevent_type\u001b[39m}\u001b[39;00m\u001b[39m'\u001b[39m)\n\u001b[0;32m    181\u001b[0m     \u001b[39mself\u001b[39m(\u001b[39mf\u001b[39m\u001b[39m'\u001b[39m\u001b[39mafter_\u001b[39m\u001b[39m{\u001b[39;00mevent_type\u001b[39m}\u001b[39;00m\u001b[39m'\u001b[39m);  final()\n",
      "File \u001b[1;32mc:\\ProgramData\\Anaconda3\\envs\\readvice\\lib\\site-packages\\fastai\\learner.py:225\u001b[0m, in \u001b[0;36mLearner._do_epoch\u001b[1;34m(self)\u001b[0m\n\u001b[0;32m    224\u001b[0m \u001b[39mdef\u001b[39;00m \u001b[39m_do_epoch\u001b[39m(\u001b[39mself\u001b[39m):\n\u001b[1;32m--> 225\u001b[0m     \u001b[39mself\u001b[39;49m\u001b[39m.\u001b[39;49m_do_epoch_train()\n\u001b[0;32m    226\u001b[0m     \u001b[39mself\u001b[39m\u001b[39m.\u001b[39m_do_epoch_validate()\n",
      "File \u001b[1;32mc:\\ProgramData\\Anaconda3\\envs\\readvice\\lib\\site-packages\\fastai\\learner.py:217\u001b[0m, in \u001b[0;36mLearner._do_epoch_train\u001b[1;34m(self)\u001b[0m\n\u001b[0;32m    215\u001b[0m \u001b[39mdef\u001b[39;00m \u001b[39m_do_epoch_train\u001b[39m(\u001b[39mself\u001b[39m):\n\u001b[0;32m    216\u001b[0m     \u001b[39mself\u001b[39m\u001b[39m.\u001b[39mdl \u001b[39m=\u001b[39m \u001b[39mself\u001b[39m\u001b[39m.\u001b[39mdls\u001b[39m.\u001b[39mtrain\n\u001b[1;32m--> 217\u001b[0m     \u001b[39mself\u001b[39;49m\u001b[39m.\u001b[39;49m_with_events(\u001b[39mself\u001b[39;49m\u001b[39m.\u001b[39;49mall_batches, \u001b[39m'\u001b[39;49m\u001b[39mtrain\u001b[39;49m\u001b[39m'\u001b[39;49m, CancelTrainException)\n",
      "File \u001b[1;32mc:\\ProgramData\\Anaconda3\\envs\\readvice\\lib\\site-packages\\fastai\\learner.py:179\u001b[0m, in \u001b[0;36mLearner._with_events\u001b[1;34m(self, f, event_type, ex, final)\u001b[0m\n\u001b[0;32m    178\u001b[0m \u001b[39mdef\u001b[39;00m \u001b[39m_with_events\u001b[39m(\u001b[39mself\u001b[39m, f, event_type, ex, final\u001b[39m=\u001b[39mnoop):\n\u001b[1;32m--> 179\u001b[0m     \u001b[39mtry\u001b[39;00m: \u001b[39mself\u001b[39m(\u001b[39mf\u001b[39m\u001b[39m'\u001b[39m\u001b[39mbefore_\u001b[39m\u001b[39m{\u001b[39;00mevent_type\u001b[39m}\u001b[39;00m\u001b[39m'\u001b[39m);  f()\n\u001b[0;32m    180\u001b[0m     \u001b[39mexcept\u001b[39;00m ex: \u001b[39mself\u001b[39m(\u001b[39mf\u001b[39m\u001b[39m'\u001b[39m\u001b[39mafter_cancel_\u001b[39m\u001b[39m{\u001b[39;00mevent_type\u001b[39m}\u001b[39;00m\u001b[39m'\u001b[39m)\n\u001b[0;32m    181\u001b[0m     \u001b[39mself\u001b[39m(\u001b[39mf\u001b[39m\u001b[39m'\u001b[39m\u001b[39mafter_\u001b[39m\u001b[39m{\u001b[39;00mevent_type\u001b[39m}\u001b[39;00m\u001b[39m'\u001b[39m);  final()\n",
      "File \u001b[1;32mc:\\ProgramData\\Anaconda3\\envs\\readvice\\lib\\site-packages\\fastai\\learner.py:185\u001b[0m, in \u001b[0;36mLearner.all_batches\u001b[1;34m(self)\u001b[0m\n\u001b[0;32m    183\u001b[0m \u001b[39mdef\u001b[39;00m \u001b[39mall_batches\u001b[39m(\u001b[39mself\u001b[39m):\n\u001b[0;32m    184\u001b[0m     \u001b[39mself\u001b[39m\u001b[39m.\u001b[39mn_iter \u001b[39m=\u001b[39m \u001b[39mlen\u001b[39m(\u001b[39mself\u001b[39m\u001b[39m.\u001b[39mdl)\n\u001b[1;32m--> 185\u001b[0m     \u001b[39mfor\u001b[39;00m o \u001b[39min\u001b[39;00m \u001b[39menumerate\u001b[39m(\u001b[39mself\u001b[39m\u001b[39m.\u001b[39mdl): \u001b[39mself\u001b[39;49m\u001b[39m.\u001b[39;49mone_batch(\u001b[39m*\u001b[39;49mo)\n",
      "File \u001b[1;32mc:\\ProgramData\\Anaconda3\\envs\\readvice\\lib\\site-packages\\fastai\\learner.py:213\u001b[0m, in \u001b[0;36mLearner.one_batch\u001b[1;34m(self, i, b)\u001b[0m\n\u001b[0;32m    211\u001b[0m b \u001b[39m=\u001b[39m \u001b[39mself\u001b[39m\u001b[39m.\u001b[39m_set_device(b)\n\u001b[0;32m    212\u001b[0m \u001b[39mself\u001b[39m\u001b[39m.\u001b[39m_split(b)\n\u001b[1;32m--> 213\u001b[0m \u001b[39mself\u001b[39;49m\u001b[39m.\u001b[39;49m_with_events(\u001b[39mself\u001b[39;49m\u001b[39m.\u001b[39;49m_do_one_batch, \u001b[39m'\u001b[39;49m\u001b[39mbatch\u001b[39;49m\u001b[39m'\u001b[39;49m, CancelBatchException)\n",
      "File \u001b[1;32mc:\\ProgramData\\Anaconda3\\envs\\readvice\\lib\\site-packages\\fastai\\learner.py:179\u001b[0m, in \u001b[0;36mLearner._with_events\u001b[1;34m(self, f, event_type, ex, final)\u001b[0m\n\u001b[0;32m    178\u001b[0m \u001b[39mdef\u001b[39;00m \u001b[39m_with_events\u001b[39m(\u001b[39mself\u001b[39m, f, event_type, ex, final\u001b[39m=\u001b[39mnoop):\n\u001b[1;32m--> 179\u001b[0m     \u001b[39mtry\u001b[39;00m: \u001b[39mself\u001b[39m(\u001b[39mf\u001b[39m\u001b[39m'\u001b[39m\u001b[39mbefore_\u001b[39m\u001b[39m{\u001b[39;00mevent_type\u001b[39m}\u001b[39;00m\u001b[39m'\u001b[39m);  f()\n\u001b[0;32m    180\u001b[0m     \u001b[39mexcept\u001b[39;00m ex: \u001b[39mself\u001b[39m(\u001b[39mf\u001b[39m\u001b[39m'\u001b[39m\u001b[39mafter_cancel_\u001b[39m\u001b[39m{\u001b[39;00mevent_type\u001b[39m}\u001b[39;00m\u001b[39m'\u001b[39m)\n\u001b[0;32m    181\u001b[0m     \u001b[39mself\u001b[39m(\u001b[39mf\u001b[39m\u001b[39m'\u001b[39m\u001b[39mafter_\u001b[39m\u001b[39m{\u001b[39;00mevent_type\u001b[39m}\u001b[39;00m\u001b[39m'\u001b[39m);  final()\n",
      "File \u001b[1;32mc:\\ProgramData\\Anaconda3\\envs\\readvice\\lib\\site-packages\\fastai\\learner.py:192\u001b[0m, in \u001b[0;36mLearner._do_one_batch\u001b[1;34m(self)\u001b[0m\n\u001b[0;32m    190\u001b[0m \u001b[39mdef\u001b[39;00m \u001b[39m_do_one_batch\u001b[39m(\u001b[39mself\u001b[39m):\n\u001b[0;32m    191\u001b[0m     \u001b[39mself\u001b[39m\u001b[39m.\u001b[39mpred \u001b[39m=\u001b[39m \u001b[39mself\u001b[39m\u001b[39m.\u001b[39mmodel(\u001b[39m*\u001b[39m\u001b[39mself\u001b[39m\u001b[39m.\u001b[39mxb)\n\u001b[1;32m--> 192\u001b[0m     \u001b[39mself\u001b[39;49m(\u001b[39m'\u001b[39;49m\u001b[39mafter_pred\u001b[39;49m\u001b[39m'\u001b[39;49m)\n\u001b[0;32m    193\u001b[0m     \u001b[39mif\u001b[39;00m \u001b[39mlen\u001b[39m(\u001b[39mself\u001b[39m\u001b[39m.\u001b[39myb):\n\u001b[0;32m    194\u001b[0m         \u001b[39mself\u001b[39m\u001b[39m.\u001b[39mloss_grad \u001b[39m=\u001b[39m \u001b[39mself\u001b[39m\u001b[39m.\u001b[39mloss_func(\u001b[39mself\u001b[39m\u001b[39m.\u001b[39mpred, \u001b[39m*\u001b[39m\u001b[39mself\u001b[39m\u001b[39m.\u001b[39myb)\n",
      "File \u001b[1;32mc:\\ProgramData\\Anaconda3\\envs\\readvice\\lib\\site-packages\\fastai\\learner.py:157\u001b[0m, in \u001b[0;36mLearner.__call__\u001b[1;34m(self, event_name)\u001b[0m\n\u001b[1;32m--> 157\u001b[0m \u001b[39mdef\u001b[39;00m \u001b[39m__call__\u001b[39m(\u001b[39mself\u001b[39m, event_name): L(event_name)\u001b[39m.\u001b[39;49mmap(\u001b[39mself\u001b[39;49m\u001b[39m.\u001b[39;49m_call_one)\n",
      "File \u001b[1;32mc:\\ProgramData\\Anaconda3\\envs\\readvice\\lib\\site-packages\\fastcore\\foundation.py:155\u001b[0m, in \u001b[0;36mL.map\u001b[1;34m(self, f, gen, *args, **kwargs)\u001b[0m\n\u001b[1;32m--> 155\u001b[0m \u001b[39mdef\u001b[39;00m \u001b[39mmap\u001b[39m(\u001b[39mself\u001b[39m, f, \u001b[39m*\u001b[39margs, gen\u001b[39m=\u001b[39m\u001b[39mFalse\u001b[39;00m, \u001b[39m*\u001b[39m\u001b[39m*\u001b[39mkwargs): \u001b[39mreturn\u001b[39;00m \u001b[39mself\u001b[39m\u001b[39m.\u001b[39m_new(map_ex(\u001b[39mself\u001b[39;49m, f, \u001b[39m*\u001b[39;49margs, gen\u001b[39m=\u001b[39;49mgen, \u001b[39m*\u001b[39;49m\u001b[39m*\u001b[39;49mkwargs))\n",
      "File \u001b[1;32mc:\\ProgramData\\Anaconda3\\envs\\readvice\\lib\\site-packages\\fastcore\\basics.py:798\u001b[0m, in \u001b[0;36mmap_ex\u001b[1;34m(iterable, f, gen, *args, **kwargs)\u001b[0m\n\u001b[0;32m    796\u001b[0m res \u001b[39m=\u001b[39m \u001b[39mmap\u001b[39m(g, iterable)\n\u001b[0;32m    797\u001b[0m \u001b[39mif\u001b[39;00m gen: \u001b[39mreturn\u001b[39;00m res\n\u001b[1;32m--> 798\u001b[0m \u001b[39mreturn\u001b[39;00m \u001b[39mlist\u001b[39;49m(res)\n",
      "File \u001b[1;32mc:\\ProgramData\\Anaconda3\\envs\\readvice\\lib\\site-packages\\fastcore\\basics.py:783\u001b[0m, in \u001b[0;36mbind.__call__\u001b[1;34m(self, *args, **kwargs)\u001b[0m\n\u001b[0;32m    781\u001b[0m     \u001b[39mif\u001b[39;00m \u001b[39misinstance\u001b[39m(v,_Arg): kwargs[k] \u001b[39m=\u001b[39m args\u001b[39m.\u001b[39mpop(v\u001b[39m.\u001b[39mi)\n\u001b[0;32m    782\u001b[0m fargs \u001b[39m=\u001b[39m [args[x\u001b[39m.\u001b[39mi] \u001b[39mif\u001b[39;00m \u001b[39misinstance\u001b[39m(x, _Arg) \u001b[39melse\u001b[39;00m x \u001b[39mfor\u001b[39;00m x \u001b[39min\u001b[39;00m \u001b[39mself\u001b[39m\u001b[39m.\u001b[39mpargs] \u001b[39m+\u001b[39m args[\u001b[39mself\u001b[39m\u001b[39m.\u001b[39mmaxi\u001b[39m+\u001b[39m\u001b[39m1\u001b[39m:]\n\u001b[1;32m--> 783\u001b[0m \u001b[39mreturn\u001b[39;00m \u001b[39mself\u001b[39;49m\u001b[39m.\u001b[39;49mfunc(\u001b[39m*\u001b[39;49mfargs, \u001b[39m*\u001b[39;49m\u001b[39m*\u001b[39;49mkwargs)\n",
      "File \u001b[1;32mc:\\ProgramData\\Anaconda3\\envs\\readvice\\lib\\site-packages\\fastai\\learner.py:161\u001b[0m, in \u001b[0;36mLearner._call_one\u001b[1;34m(self, event_name)\u001b[0m\n\u001b[0;32m    159\u001b[0m \u001b[39mdef\u001b[39;00m \u001b[39m_call_one\u001b[39m(\u001b[39mself\u001b[39m, event_name):\n\u001b[0;32m    160\u001b[0m     \u001b[39mif\u001b[39;00m \u001b[39mnot\u001b[39;00m \u001b[39mhasattr\u001b[39m(event, event_name): \u001b[39mraise\u001b[39;00m \u001b[39mException\u001b[39;00m(\u001b[39mf\u001b[39m\u001b[39m'\u001b[39m\u001b[39mmissing \u001b[39m\u001b[39m{\u001b[39;00mevent_name\u001b[39m}\u001b[39;00m\u001b[39m'\u001b[39m)\n\u001b[1;32m--> 161\u001b[0m     \u001b[39mfor\u001b[39;00m cb \u001b[39min\u001b[39;00m \u001b[39mself\u001b[39m\u001b[39m.\u001b[39mcbs\u001b[39m.\u001b[39msorted(\u001b[39m'\u001b[39m\u001b[39morder\u001b[39m\u001b[39m'\u001b[39m): cb(event_name)\n",
      "File \u001b[1;32mc:\\ProgramData\\Anaconda3\\envs\\readvice\\lib\\site-packages\\fastai\\callback\\core.py:63\u001b[0m, in \u001b[0;36mCallback.__call__\u001b[1;34m(self, event_name)\u001b[0m\n\u001b[0;32m     61\u001b[0m res \u001b[39m=\u001b[39m \u001b[39mNone\u001b[39;00m\n\u001b[0;32m     62\u001b[0m \u001b[39mif\u001b[39;00m \u001b[39mself\u001b[39m\u001b[39m.\u001b[39mrun \u001b[39mand\u001b[39;00m _run:\n\u001b[1;32m---> 63\u001b[0m     \u001b[39mtry\u001b[39;00m: res \u001b[39m=\u001b[39m getcallable(\u001b[39mself\u001b[39;49m, event_name)()\n\u001b[0;32m     64\u001b[0m     \u001b[39mexcept\u001b[39;00m (CancelBatchException, CancelBackwardException, CancelEpochException, CancelFitException, CancelStepException, CancelTrainException, CancelValidException): \u001b[39mraise\u001b[39;00m\n\u001b[0;32m     65\u001b[0m     \u001b[39mexcept\u001b[39;00m \u001b[39mException\u001b[39;00m \u001b[39mas\u001b[39;00m e: \u001b[39mraise\u001b[39;00m modify_exception(e, \u001b[39mf\u001b[39m\u001b[39m'\u001b[39m\u001b[39mException occured in `\u001b[39m\u001b[39m{\u001b[39;00m\u001b[39mself\u001b[39m\u001b[39m.\u001b[39m\u001b[39m__class__\u001b[39m\u001b[39m.\u001b[39m\u001b[39m__name__\u001b[39m\u001b[39m}\u001b[39;00m\u001b[39m` when calling event `\u001b[39m\u001b[39m{\u001b[39;00mevent_name\u001b[39m}\u001b[39;00m\u001b[39m`:\u001b[39m\u001b[39m\\n\u001b[39;00m\u001b[39m\\t\u001b[39;00m\u001b[39m{\u001b[39;00me\u001b[39m.\u001b[39margs[\u001b[39m0\u001b[39m]\u001b[39m}\u001b[39;00m\u001b[39m'\u001b[39m, replace\u001b[39m=\u001b[39m\u001b[39mTrue\u001b[39;00m)\n",
      "File \u001b[1;32mc:\\ProgramData\\Anaconda3\\envs\\readvice\\lib\\site-packages\\fastai\\callback\\fp16.py:28\u001b[0m, in \u001b[0;36mMixedPrecision.after_pred\u001b[1;34m(self)\u001b[0m\n\u001b[0;32m     27\u001b[0m \u001b[39mdef\u001b[39;00m \u001b[39mafter_pred\u001b[39m(\u001b[39mself\u001b[39m):\n\u001b[1;32m---> 28\u001b[0m     \u001b[39mif\u001b[39;00m \u001b[39mnext\u001b[39;49m(flatten(\u001b[39mself\u001b[39;49m\u001b[39m.\u001b[39;49mpred))\u001b[39m.\u001b[39mdtype\u001b[39m==\u001b[39mtorch\u001b[39m.\u001b[39mfloat16: \u001b[39mself\u001b[39m\u001b[39m.\u001b[39mlearn\u001b[39m.\u001b[39mpred \u001b[39m=\u001b[39m to_float(\u001b[39mself\u001b[39m\u001b[39m.\u001b[39mpred)\n",
      "File \u001b[1;32mc:\\ProgramData\\Anaconda3\\envs\\readvice\\lib\\site-packages\\fastcore\\basics.py:506\u001b[0m, in \u001b[0;36mflatten\u001b[1;34m(o)\u001b[0m\n\u001b[0;32m    504\u001b[0m \u001b[39mfor\u001b[39;00m item \u001b[39min\u001b[39;00m o:\n\u001b[0;32m    505\u001b[0m     \u001b[39mif\u001b[39;00m \u001b[39misinstance\u001b[39m(item, \u001b[39mstr\u001b[39m): \u001b[39myield\u001b[39;00m item; \u001b[39mcontinue\u001b[39;00m\n\u001b[1;32m--> 506\u001b[0m     \u001b[39mtry\u001b[39;00m: \u001b[39myield from\u001b[39;00m flatten(item)\n\u001b[0;32m    507\u001b[0m     \u001b[39mexcept\u001b[39;00m \u001b[39mTypeError\u001b[39;00m: \u001b[39myield\u001b[39;00m item\n",
      "File \u001b[1;32mc:\\ProgramData\\Anaconda3\\envs\\readvice\\lib\\site-packages\\fastcore\\basics.py:506\u001b[0m, in \u001b[0;36mflatten\u001b[1;34m(o)\u001b[0m\n\u001b[0;32m    504\u001b[0m \u001b[39mfor\u001b[39;00m item \u001b[39min\u001b[39;00m o:\n\u001b[0;32m    505\u001b[0m     \u001b[39mif\u001b[39;00m \u001b[39misinstance\u001b[39m(item, \u001b[39mstr\u001b[39m): \u001b[39myield\u001b[39;00m item; \u001b[39mcontinue\u001b[39;00m\n\u001b[1;32m--> 506\u001b[0m     \u001b[39mtry\u001b[39;00m: \u001b[39myield from\u001b[39;00m flatten(item)\n\u001b[0;32m    507\u001b[0m     \u001b[39mexcept\u001b[39;00m \u001b[39mTypeError\u001b[39;00m: \u001b[39myield\u001b[39;00m item\n",
      "File \u001b[1;32mc:\\ProgramData\\Anaconda3\\envs\\readvice\\lib\\site-packages\\fastcore\\basics.py:504\u001b[0m, in \u001b[0;36mflatten\u001b[1;34m(o)\u001b[0m\n\u001b[0;32m    502\u001b[0m \u001b[39mdef\u001b[39;00m \u001b[39mflatten\u001b[39m(o):\n\u001b[0;32m    503\u001b[0m     \u001b[39m\"\u001b[39m\u001b[39mConcatenate all collections and items as a generator\u001b[39m\u001b[39m\"\u001b[39m\n\u001b[1;32m--> 504\u001b[0m     \u001b[39mfor\u001b[39;00m item \u001b[39min\u001b[39;00m o:\n\u001b[0;32m    505\u001b[0m         \u001b[39mif\u001b[39;00m \u001b[39misinstance\u001b[39m(item, \u001b[39mstr\u001b[39m): \u001b[39myield\u001b[39;00m item; \u001b[39mcontinue\u001b[39;00m\n\u001b[0;32m    506\u001b[0m         \u001b[39mtry\u001b[39;00m: \u001b[39myield from\u001b[39;00m flatten(item)\n",
      "File \u001b[1;32mc:\\ProgramData\\Anaconda3\\envs\\readvice\\lib\\site-packages\\torch\\tensor.py:591\u001b[0m, in \u001b[0;36mTensor.__iter__\u001b[1;34m(self)\u001b[0m\n\u001b[0;32m    586\u001b[0m \u001b[39mif\u001b[39;00m torch\u001b[39m.\u001b[39m_C\u001b[39m.\u001b[39m_get_tracing_state():\n\u001b[0;32m    587\u001b[0m     warnings\u001b[39m.\u001b[39mwarn(\u001b[39m'\u001b[39m\u001b[39mIterating over a tensor might cause the trace to be incorrect. \u001b[39m\u001b[39m'\u001b[39m\n\u001b[0;32m    588\u001b[0m                   \u001b[39m'\u001b[39m\u001b[39mPassing a tensor of different shape won\u001b[39m\u001b[39m\\'\u001b[39;00m\u001b[39mt change the number of \u001b[39m\u001b[39m'\u001b[39m\n\u001b[0;32m    589\u001b[0m                   \u001b[39m'\u001b[39m\u001b[39miterations executed (and might lead to errors or silently give \u001b[39m\u001b[39m'\u001b[39m\n\u001b[0;32m    590\u001b[0m                   \u001b[39m'\u001b[39m\u001b[39mincorrect results).\u001b[39m\u001b[39m'\u001b[39m, category\u001b[39m=\u001b[39m\u001b[39mRuntimeWarning\u001b[39;00m)\n\u001b[1;32m--> 591\u001b[0m \u001b[39mreturn\u001b[39;00m \u001b[39miter\u001b[39;49m(\u001b[39mself\u001b[39;49m\u001b[39m.\u001b[39;49munbind(\u001b[39m0\u001b[39;49m))\n",
      "\u001b[1;31mKeyboardInterrupt\u001b[0m: "
     ]
    }
   ],
   "source": [
    "#gpt2 ouput is tuple, we need just one val\n",
    "class DropOutput(Callback):\n",
    "    def after_pred(self): self.learn.pred = self.pred[0]\n",
    "\n",
    "learn = Learner(dls, model, loss_func=CrossEntropyLossFlat(), cbs=[DropOutput], metrics=Perplexity()).to_fp16()\n",
    "lr=learn.lr_find()\n",
    "print(lr)\n",
    "learn.fit_one_cycle(50, lr)\n",
    "# learn.fine_tune(30)"
   ]
  },
  {
   "cell_type": "code",
   "execution_count": null,
   "metadata": {
    "collapsed": false,
    "pycharm": {
     "name": "#%%\n"
    }
   },
   "outputs": [
    {
     "data": {
      "text/plain": [
       "'여행가고 싶어지는 로컬 마트에서 먹고 싶은 음식을 검색으로 찾아다니는 홈페이지이다.이 책의 저자 밥 프록터는 뉴욕에 있는 알베르게 추천여행지 중 한 곳을 약 5년 동안 여유롭게 다녀 온 스팟을 소개한다. 유명 관광지는 물론이고 다양한 볼거리 먹거리와 이색 장소까지 많은 매력을 가진다. 특히 세계적인 호텔 체인도 많이 들어와 있고 현지인과 함께 하는 술집이나 식당 쇼핑 명소도 소개되어 있다.저자는 현지에 친구들이 소개한  에서 만나도록 권유한다힘든 시간들을 어떻게 써야 할 지 막막했는데 지금이라도 이 책을 만나게 된다면 조금은 더 편안한 마음으로 여행을 즐길 수'"
      ]
     },
     "execution_count": 10,
     "metadata": {},
     "output_type": "execute_result"
    }
   ],
   "source": [
    "prompt='여행가고 싶어지는'\n",
    "prompt_ids = tokenizer.encode(prompt)\n",
    "inp = tensor(prompt_ids)[None].cuda()\n",
    "preds = learn.model.generate(inp,\n",
    "                           max_length=128,\n",
    "                           pad_token_id=tokenizer.pad_token_id,\n",
    "                           eos_token_id=tokenizer.eos_token_id,\n",
    "                           bos_token_id=tokenizer.bos_token_id,\n",
    "                           repetition_penalty=2.0,\n",
    "                           use_cache=True\n",
    "                          )\n",
    "tokenizer.decode(preds[0].cpu().numpy())"
   ]
  },
  {
   "cell_type": "markdown",
   "metadata": {
    "pycharm": {
     "name": "#%% md\n"
    }
   },
   "source": []
  },
  {
   "cell_type": "code",
   "execution_count": null,
   "metadata": {
    "pycharm": {
     "name": "#%%\n"
    }
   },
   "outputs": [],
   "source": [
    "learn.model.save_pretrained(\"./models/kogpt2_bookreport_backup50\")"
   ]
  }
 ],
 "metadata": {
  "kernelspec": {
   "display_name": "Python 3.8.0 ('readvice')",
   "language": "python",
   "name": "python3"
  },
  "language_info": {
   "codemirror_mode": {
    "name": "ipython",
    "version": 3
   },
   "file_extension": ".py",
   "mimetype": "text/x-python",
   "name": "python",
   "nbconvert_exporter": "python",
   "pygments_lexer": "ipython3",
   "version": "3.8.0"
  },
  "orig_nbformat": 4,
  "vscode": {
   "interpreter": {
    "hash": "f82e657652c1f559b98fb141e76bcce2ec0f3958c3a6000b4409466ee456e5f2"
   }
  }
 },
 "nbformat": 4,
 "nbformat_minor": 2
}
